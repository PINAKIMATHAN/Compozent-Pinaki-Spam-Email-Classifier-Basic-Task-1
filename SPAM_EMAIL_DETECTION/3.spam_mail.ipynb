{
 "cells": [
  {
   "cell_type": "code",
   "execution_count": 63,
   "metadata": {
    "_cell_guid": "b1076dfc-b9ad-4769-8c92-a6c4dae69d19",
    "_uuid": "8f2839f25d086af736a60e9eeb907d3b93b6e0e5",
    "execution": {
     "iopub.execute_input": "2023-11-06T18:57:52.103703Z",
     "iopub.status.busy": "2023-11-06T18:57:52.103298Z",
     "iopub.status.idle": "2023-11-06T18:57:52.116495Z",
     "shell.execute_reply": "2023-11-06T18:57:52.115496Z",
     "shell.execute_reply.started": "2023-11-06T18:57:52.103672Z"
    }
   },
   "outputs": [
    {
     "name": "stdout",
     "output_type": "stream",
     "text": [
      "/kaggle/input/spam-email/spam.csv\n"
     ]
    }
   ],
   "source": [
    "# This Python 3 environment comes with many helpful analytics libraries installed\n",
    "# It is defined by the kaggle/python Docker image: https://github.com/kaggle/docker-python\n",
    "# For example, here's several helpful packages to load\n",
    "\n",
    "import numpy as np # linear algebra\n",
    "import pandas as pd # data processing, CSV file I/O (e.g. pd.read_csv)\n",
    "\n",
    "# Input data files are available in the read-only \"../input/\" directory\n",
    "# For example, running this (by clicking run or pressing Shift+Enter) will list all files under the input directory\n",
    "\n",
    "import os\n",
    "for dirname, _, filenames in os.walk('/kaggle/input'):\n",
    "    for filename in filenames:\n",
    "        \n",
    "        print(os.path.join(dirname, filename))\n",
    "\n",
    "# You can write up to 20GB to the current directory (/kaggle/working/) that gets preserved as output when you create a version using \"Save & Run All\" \n",
    "# You can also write temporary files to /kaggle/temp/, but they won't be saved outside of the current session"
   ]
  },
  {
   "cell_type": "code",
   "execution_count": 64,
   "metadata": {
    "execution": {
     "iopub.execute_input": "2023-11-06T18:57:52.120234Z",
     "iopub.status.busy": "2023-11-06T18:57:52.119739Z",
     "iopub.status.idle": "2023-11-06T18:57:52.129619Z",
     "shell.execute_reply": "2023-11-06T18:57:52.128109Z",
     "shell.execute_reply.started": "2023-11-06T18:57:52.120192Z"
    }
   },
   "outputs": [],
   "source": [
    "#libraries for calculations and plots\n",
    "import numpy as np\n",
    "import pandas as pd\n",
    "from sklearn.model_selection import train_test_split\n",
    "import matplotlib.pyplot as plt\n",
    "import seaborn as sns"
   ]
  },
  {
   "cell_type": "code",
   "execution_count": 65,
   "metadata": {
    "execution": {
     "iopub.execute_input": "2023-11-06T18:57:52.132579Z",
     "iopub.status.busy": "2023-11-06T18:57:52.131701Z",
     "iopub.status.idle": "2023-11-06T18:57:52.144818Z",
     "shell.execute_reply": "2023-11-06T18:57:52.143650Z",
     "shell.execute_reply.started": "2023-11-06T18:57:52.132541Z"
    }
   },
   "outputs": [],
   "source": [
    "#importing libraries for models\n",
    "from sklearn.linear_model import LogisticRegression\n",
    "from sklearn.naive_bayes import MultinomialNB\n",
    "from sklearn.feature_extraction.text import TfidfVectorizer\n",
    "from sklearn.metrics import accuracy_score, confusion_matrix, roc_curve, roc_auc_score"
   ]
  },
  {
   "cell_type": "code",
   "execution_count": 66,
   "metadata": {
    "execution": {
     "iopub.execute_input": "2023-11-06T18:57:52.147244Z",
     "iopub.status.busy": "2023-11-06T18:57:52.146233Z",
     "iopub.status.idle": "2023-11-06T18:57:52.158395Z",
     "shell.execute_reply": "2023-11-06T18:57:52.157459Z",
     "shell.execute_reply.started": "2023-11-06T18:57:52.147210Z"
    }
   },
   "outputs": [],
   "source": [
    "#libraries for language processing\n",
    "import nltk\n",
    "from nltk.corpus import stopwords\n",
    "from collections import Counter"
   ]
  },
  {
   "cell_type": "code",
   "execution_count": 126,
   "metadata": {
    "execution": {
     "iopub.execute_input": "2023-11-06T19:53:59.964318Z",
     "iopub.status.busy": "2023-11-06T19:53:59.963874Z",
     "iopub.status.idle": "2023-11-06T19:54:00.030867Z",
     "shell.execute_reply": "2023-11-06T19:54:00.029529Z",
     "shell.execute_reply.started": "2023-11-06T19:53:59.964286Z"
    }
   },
   "outputs": [
    {
     "data": {
      "text/html": [
       "<div>\n",
       "<style scoped>\n",
       "    .dataframe tbody tr th:only-of-type {\n",
       "        vertical-align: middle;\n",
       "    }\n",
       "\n",
       "    .dataframe tbody tr th {\n",
       "        vertical-align: top;\n",
       "    }\n",
       "\n",
       "    .dataframe thead th {\n",
       "        text-align: right;\n",
       "    }\n",
       "</style>\n",
       "<table border=\"1\" class=\"dataframe\">\n",
       "  <thead>\n",
       "    <tr style=\"text-align: right;\">\n",
       "      <th></th>\n",
       "      <th>Category</th>\n",
       "      <th>Message</th>\n",
       "    </tr>\n",
       "  </thead>\n",
       "  <tbody>\n",
       "    <tr>\n",
       "      <th>0</th>\n",
       "      <td>ham</td>\n",
       "      <td>Go until jurong point, crazy.. Available only ...</td>\n",
       "    </tr>\n",
       "    <tr>\n",
       "      <th>1</th>\n",
       "      <td>ham</td>\n",
       "      <td>Ok lar... Joking wif u oni...</td>\n",
       "    </tr>\n",
       "    <tr>\n",
       "      <th>2</th>\n",
       "      <td>spam</td>\n",
       "      <td>Free entry in 2 a wkly comp to win FA Cup fina...</td>\n",
       "    </tr>\n",
       "    <tr>\n",
       "      <th>3</th>\n",
       "      <td>ham</td>\n",
       "      <td>U dun say so early hor... U c already then say...</td>\n",
       "    </tr>\n",
       "    <tr>\n",
       "      <th>4</th>\n",
       "      <td>ham</td>\n",
       "      <td>Nah I don't think he goes to usf, he lives aro...</td>\n",
       "    </tr>\n",
       "  </tbody>\n",
       "</table>\n",
       "</div>"
      ],
      "text/plain": [
       "  Category                                            Message\n",
       "0      ham  Go until jurong point, crazy.. Available only ...\n",
       "1      ham                      Ok lar... Joking wif u oni...\n",
       "2     spam  Free entry in 2 a wkly comp to win FA Cup fina...\n",
       "3      ham  U dun say so early hor... U c already then say...\n",
       "4      ham  Nah I don't think he goes to usf, he lives aro..."
      ]
     },
     "execution_count": 126,
     "metadata": {},
     "output_type": "execute_result"
    }
   ],
   "source": [
    "mail = pd.read_csv('/kaggle/input/spam-email/spam.csv')\n",
    "mail.head()"
   ]
  },
  {
   "cell_type": "code",
   "execution_count": 69,
   "metadata": {
    "execution": {
     "iopub.execute_input": "2023-11-06T18:57:52.209514Z",
     "iopub.status.busy": "2023-11-06T18:57:52.209098Z",
     "iopub.status.idle": "2023-11-06T18:57:52.225904Z",
     "shell.execute_reply": "2023-11-06T18:57:52.224236Z",
     "shell.execute_reply.started": "2023-11-06T18:57:52.209475Z"
    }
   },
   "outputs": [
    {
     "data": {
      "text/plain": [
       "Category    0\n",
       "Message     0\n",
       "dtype: int64"
      ]
     },
     "execution_count": 69,
     "metadata": {},
     "output_type": "execute_result"
    }
   ],
   "source": [
    "mail.isnull().sum()"
   ]
  },
  {
   "cell_type": "code",
   "execution_count": 70,
   "metadata": {
    "execution": {
     "iopub.execute_input": "2023-11-06T18:57:52.228856Z",
     "iopub.status.busy": "2023-11-06T18:57:52.228323Z",
     "iopub.status.idle": "2023-11-06T18:57:52.245300Z",
     "shell.execute_reply": "2023-11-06T18:57:52.243828Z",
     "shell.execute_reply.started": "2023-11-06T18:57:52.228813Z"
    }
   },
   "outputs": [
    {
     "data": {
      "text/plain": [
       "415"
      ]
     },
     "execution_count": 70,
     "metadata": {},
     "output_type": "execute_result"
    }
   ],
   "source": [
    "mail.duplicated().sum()"
   ]
  },
  {
   "cell_type": "code",
   "execution_count": 71,
   "metadata": {
    "execution": {
     "iopub.execute_input": "2023-11-06T18:57:52.248387Z",
     "iopub.status.busy": "2023-11-06T18:57:52.246985Z",
     "iopub.status.idle": "2023-11-06T18:57:52.259189Z",
     "shell.execute_reply": "2023-11-06T18:57:52.258018Z",
     "shell.execute_reply.started": "2023-11-06T18:57:52.248340Z"
    }
   },
   "outputs": [],
   "source": [
    "mail.drop_duplicates( keep = 'first', inplace = True)"
   ]
  },
  {
   "cell_type": "code",
   "execution_count": 72,
   "metadata": {
    "execution": {
     "iopub.execute_input": "2023-11-06T18:57:52.261712Z",
     "iopub.status.busy": "2023-11-06T18:57:52.261011Z",
     "iopub.status.idle": "2023-11-06T18:57:52.274262Z",
     "shell.execute_reply": "2023-11-06T18:57:52.272672Z",
     "shell.execute_reply.started": "2023-11-06T18:57:52.261678Z"
    }
   },
   "outputs": [
    {
     "data": {
      "text/plain": [
       "10314"
      ]
     },
     "execution_count": 72,
     "metadata": {},
     "output_type": "execute_result"
    }
   ],
   "source": [
    "mail.size"
   ]
  },
  {
   "cell_type": "code",
   "execution_count": 73,
   "metadata": {
    "execution": {
     "iopub.execute_input": "2023-11-06T18:57:52.314836Z",
     "iopub.status.busy": "2023-11-06T18:57:52.314372Z",
     "iopub.status.idle": "2023-11-06T18:57:52.324045Z",
     "shell.execute_reply": "2023-11-06T18:57:52.322452Z",
     "shell.execute_reply.started": "2023-11-06T18:57:52.314805Z"
    }
   },
   "outputs": [
    {
     "data": {
      "text/plain": [
       "(5157, 2)"
      ]
     },
     "execution_count": 73,
     "metadata": {},
     "output_type": "execute_result"
    }
   ],
   "source": [
    "mail.shape"
   ]
  },
  {
   "cell_type": "code",
   "execution_count": 74,
   "metadata": {
    "execution": {
     "iopub.execute_input": "2023-11-06T18:57:52.327668Z",
     "iopub.status.busy": "2023-11-06T18:57:52.327218Z",
     "iopub.status.idle": "2023-11-06T18:57:52.346888Z",
     "shell.execute_reply": "2023-11-06T18:57:52.345712Z",
     "shell.execute_reply.started": "2023-11-06T18:57:52.327627Z"
    }
   },
   "outputs": [
    {
     "name": "stdout",
     "output_type": "stream",
     "text": [
      "<class 'pandas.core.frame.DataFrame'>\n",
      "Index: 5157 entries, 0 to 5571\n",
      "Data columns (total 2 columns):\n",
      " #   Column    Non-Null Count  Dtype \n",
      "---  ------    --------------  ----- \n",
      " 0   Category  5157 non-null   object\n",
      " 1   Message   5157 non-null   object\n",
      "dtypes: object(2)\n",
      "memory usage: 120.9+ KB\n"
     ]
    }
   ],
   "source": [
    "mail.info()"
   ]
  },
  {
   "cell_type": "code",
   "execution_count": 75,
   "metadata": {
    "execution": {
     "iopub.execute_input": "2023-11-06T18:57:52.349699Z",
     "iopub.status.busy": "2023-11-06T18:57:52.348577Z",
     "iopub.status.idle": "2023-11-06T18:57:52.377996Z",
     "shell.execute_reply": "2023-11-06T18:57:52.376778Z",
     "shell.execute_reply.started": "2023-11-06T18:57:52.349653Z"
    }
   },
   "outputs": [
    {
     "data": {
      "text/html": [
       "<div>\n",
       "<style scoped>\n",
       "    .dataframe tbody tr th:only-of-type {\n",
       "        vertical-align: middle;\n",
       "    }\n",
       "\n",
       "    .dataframe tbody tr th {\n",
       "        vertical-align: top;\n",
       "    }\n",
       "\n",
       "    .dataframe thead th {\n",
       "        text-align: right;\n",
       "    }\n",
       "</style>\n",
       "<table border=\"1\" class=\"dataframe\">\n",
       "  <thead>\n",
       "    <tr style=\"text-align: right;\">\n",
       "      <th></th>\n",
       "      <th>Category</th>\n",
       "      <th>Message</th>\n",
       "    </tr>\n",
       "  </thead>\n",
       "  <tbody>\n",
       "    <tr>\n",
       "      <th>count</th>\n",
       "      <td>5157</td>\n",
       "      <td>5157</td>\n",
       "    </tr>\n",
       "    <tr>\n",
       "      <th>unique</th>\n",
       "      <td>2</td>\n",
       "      <td>5157</td>\n",
       "    </tr>\n",
       "    <tr>\n",
       "      <th>top</th>\n",
       "      <td>ham</td>\n",
       "      <td>Go until jurong point, crazy.. Available only ...</td>\n",
       "    </tr>\n",
       "    <tr>\n",
       "      <th>freq</th>\n",
       "      <td>4516</td>\n",
       "      <td>1</td>\n",
       "    </tr>\n",
       "  </tbody>\n",
       "</table>\n",
       "</div>"
      ],
      "text/plain": [
       "       Category                                            Message\n",
       "count      5157                                               5157\n",
       "unique        2                                               5157\n",
       "top         ham  Go until jurong point, crazy.. Available only ...\n",
       "freq       4516                                                  1"
      ]
     },
     "execution_count": 75,
     "metadata": {},
     "output_type": "execute_result"
    }
   ],
   "source": [
    "mail.describe()"
   ]
  },
  {
   "cell_type": "code",
   "execution_count": 77,
   "metadata": {
    "execution": {
     "iopub.execute_input": "2023-11-06T18:57:52.396475Z",
     "iopub.status.busy": "2023-11-06T18:57:52.395965Z",
     "iopub.status.idle": "2023-11-06T18:57:52.405123Z",
     "shell.execute_reply": "2023-11-06T18:57:52.403578Z",
     "shell.execute_reply.started": "2023-11-06T18:57:52.396434Z"
    }
   },
   "outputs": [],
   "source": [
    "mail.columns = mail.columns.str.strip()\n",
    "mail.columns = mail.columns.str.lower()"
   ]
  },
  {
   "cell_type": "code",
   "execution_count": 79,
   "metadata": {
    "execution": {
     "iopub.execute_input": "2023-11-06T18:57:52.422794Z",
     "iopub.status.busy": "2023-11-06T18:57:52.422010Z",
     "iopub.status.idle": "2023-11-06T18:57:52.438520Z",
     "shell.execute_reply": "2023-11-06T18:57:52.436765Z",
     "shell.execute_reply.started": "2023-11-06T18:57:52.422696Z"
    }
   },
   "outputs": [
    {
     "data": {
      "text/plain": [
       "category    object\n",
       "message     object\n",
       "dtype: object"
      ]
     },
     "execution_count": 79,
     "metadata": {},
     "output_type": "execute_result"
    }
   ],
   "source": [
    "mail.dtypes"
   ]
  },
  {
   "cell_type": "code",
   "execution_count": 80,
   "metadata": {
    "execution": {
     "iopub.execute_input": "2023-11-06T18:57:52.441635Z",
     "iopub.status.busy": "2023-11-06T18:57:52.441157Z",
     "iopub.status.idle": "2023-11-06T18:57:52.460925Z",
     "shell.execute_reply": "2023-11-06T18:57:52.459816Z",
     "shell.execute_reply.started": "2023-11-06T18:57:52.441595Z"
    }
   },
   "outputs": [
    {
     "data": {
      "text/html": [
       "<div>\n",
       "<style scoped>\n",
       "    .dataframe tbody tr th:only-of-type {\n",
       "        vertical-align: middle;\n",
       "    }\n",
       "\n",
       "    .dataframe tbody tr th {\n",
       "        vertical-align: top;\n",
       "    }\n",
       "\n",
       "    .dataframe thead th {\n",
       "        text-align: right;\n",
       "    }\n",
       "</style>\n",
       "<table border=\"1\" class=\"dataframe\">\n",
       "  <thead>\n",
       "    <tr style=\"text-align: right;\">\n",
       "      <th></th>\n",
       "      <th>count</th>\n",
       "    </tr>\n",
       "    <tr>\n",
       "      <th>category</th>\n",
       "      <th></th>\n",
       "    </tr>\n",
       "  </thead>\n",
       "  <tbody>\n",
       "    <tr>\n",
       "      <th>ham</th>\n",
       "      <td>4516</td>\n",
       "    </tr>\n",
       "    <tr>\n",
       "      <th>spam</th>\n",
       "      <td>641</td>\n",
       "    </tr>\n",
       "  </tbody>\n",
       "</table>\n",
       "</div>"
      ],
      "text/plain": [
       "          count\n",
       "category       \n",
       "ham        4516\n",
       "spam        641"
      ]
     },
     "execution_count": 80,
     "metadata": {},
     "output_type": "execute_result"
    }
   ],
   "source": [
    "mail['category'].value_counts().to_frame()"
   ]
  },
  {
   "cell_type": "code",
   "execution_count": 81,
   "metadata": {
    "execution": {
     "iopub.execute_input": "2023-11-06T18:57:52.463100Z",
     "iopub.status.busy": "2023-11-06T18:57:52.462635Z",
     "iopub.status.idle": "2023-11-06T18:57:52.473772Z",
     "shell.execute_reply": "2023-11-06T18:57:52.472756Z",
     "shell.execute_reply.started": "2023-11-06T18:57:52.463060Z"
    }
   },
   "outputs": [],
   "source": [
    "mail.loc[mail['category'] == 'spam','category'] = 1\n",
    "mail.loc[mail['category'] == 'ham', 'category'] = 0"
   ]
  },
  {
   "cell_type": "code",
   "execution_count": 82,
   "metadata": {
    "execution": {
     "iopub.execute_input": "2023-11-06T18:57:52.476312Z",
     "iopub.status.busy": "2023-11-06T18:57:52.475231Z",
     "iopub.status.idle": "2023-11-06T18:57:52.487308Z",
     "shell.execute_reply": "2023-11-06T18:57:52.486290Z",
     "shell.execute_reply.started": "2023-11-06T18:57:52.476254Z"
    }
   },
   "outputs": [],
   "source": [
    "mail['category'] = mail['category'].astype('int64')"
   ]
  },
  {
   "cell_type": "code",
   "execution_count": 83,
   "metadata": {
    "execution": {
     "iopub.execute_input": "2023-11-06T18:57:52.489292Z",
     "iopub.status.busy": "2023-11-06T18:57:52.488671Z",
     "iopub.status.idle": "2023-11-06T18:57:52.509438Z",
     "shell.execute_reply": "2023-11-06T18:57:52.508622Z",
     "shell.execute_reply.started": "2023-11-06T18:57:52.489260Z"
    }
   },
   "outputs": [
    {
     "data": {
      "text/html": [
       "<div>\n",
       "<style scoped>\n",
       "    .dataframe tbody tr th:only-of-type {\n",
       "        vertical-align: middle;\n",
       "    }\n",
       "\n",
       "    .dataframe tbody tr th {\n",
       "        vertical-align: top;\n",
       "    }\n",
       "\n",
       "    .dataframe thead th {\n",
       "        text-align: right;\n",
       "    }\n",
       "</style>\n",
       "<table border=\"1\" class=\"dataframe\">\n",
       "  <thead>\n",
       "    <tr style=\"text-align: right;\">\n",
       "      <th></th>\n",
       "      <th>category</th>\n",
       "    </tr>\n",
       "  </thead>\n",
       "  <tbody>\n",
       "    <tr>\n",
       "      <th>count</th>\n",
       "      <td>5157.000000</td>\n",
       "    </tr>\n",
       "    <tr>\n",
       "      <th>mean</th>\n",
       "      <td>0.124297</td>\n",
       "    </tr>\n",
       "    <tr>\n",
       "      <th>std</th>\n",
       "      <td>0.329952</td>\n",
       "    </tr>\n",
       "    <tr>\n",
       "      <th>min</th>\n",
       "      <td>0.000000</td>\n",
       "    </tr>\n",
       "    <tr>\n",
       "      <th>25%</th>\n",
       "      <td>0.000000</td>\n",
       "    </tr>\n",
       "    <tr>\n",
       "      <th>50%</th>\n",
       "      <td>0.000000</td>\n",
       "    </tr>\n",
       "    <tr>\n",
       "      <th>75%</th>\n",
       "      <td>0.000000</td>\n",
       "    </tr>\n",
       "    <tr>\n",
       "      <th>max</th>\n",
       "      <td>1.000000</td>\n",
       "    </tr>\n",
       "  </tbody>\n",
       "</table>\n",
       "</div>"
      ],
      "text/plain": [
       "          category\n",
       "count  5157.000000\n",
       "mean      0.124297\n",
       "std       0.329952\n",
       "min       0.000000\n",
       "25%       0.000000\n",
       "50%       0.000000\n",
       "75%       0.000000\n",
       "max       1.000000"
      ]
     },
     "execution_count": 83,
     "metadata": {},
     "output_type": "execute_result"
    }
   ],
   "source": [
    "mail.describe()"
   ]
  },
  {
   "cell_type": "code",
   "execution_count": 84,
   "metadata": {
    "execution": {
     "iopub.execute_input": "2023-11-06T18:57:52.511599Z",
     "iopub.status.busy": "2023-11-06T18:57:52.510773Z",
     "iopub.status.idle": "2023-11-06T18:57:52.778758Z",
     "shell.execute_reply": "2023-11-06T18:57:52.777621Z",
     "shell.execute_reply.started": "2023-11-06T18:57:52.511568Z"
    }
   },
   "outputs": [
    {
     "data": {
      "text/plain": [
       "<Axes: xlabel='category', ylabel='count'>"
      ]
     },
     "execution_count": 84,
     "metadata": {},
     "output_type": "execute_result"
    },
    {
     "data": {
      "image/png": "[encoded data removed]",
      "text/plain": [
       "<Figure size 1500x500 with 1 Axes>"
      ]
     },
     "metadata": {},
     "output_type": "display_data"
    }
   ],
   "source": [
    "plt.figure(figsize= (15,5))\n",
    "sns.countplot(data = mail, x= 'category')"
   ]
  },
  {
   "cell_type": "code",
   "execution_count": 86,
   "metadata": {
    "execution": {
     "iopub.execute_input": "2023-11-06T18:57:52.802221Z",
     "iopub.status.busy": "2023-11-06T18:57:52.801468Z",
     "iopub.status.idle": "2023-11-06T18:57:52.821228Z",
     "shell.execute_reply": "2023-11-06T18:57:52.818863Z",
     "shell.execute_reply.started": "2023-11-06T18:57:52.802177Z"
    }
   },
   "outputs": [
    {
     "data": {
      "text/html": [
       "<div>\n",
       "<style scoped>\n",
       "    .dataframe tbody tr th:only-of-type {\n",
       "        vertical-align: middle;\n",
       "    }\n",
       "\n",
       "    .dataframe tbody tr th {\n",
       "        vertical-align: top;\n",
       "    }\n",
       "\n",
       "    .dataframe thead th {\n",
       "        text-align: right;\n",
       "    }\n",
       "</style>\n",
       "<table border=\"1\" class=\"dataframe\">\n",
       "  <thead>\n",
       "    <tr style=\"text-align: right;\">\n",
       "      <th></th>\n",
       "      <th>category</th>\n",
       "      <th>message</th>\n",
       "    </tr>\n",
       "  </thead>\n",
       "  <tbody>\n",
       "    <tr>\n",
       "      <th>0</th>\n",
       "      <td>0</td>\n",
       "      <td>Go until jurong point, crazy.. Available only ...</td>\n",
       "    </tr>\n",
       "    <tr>\n",
       "      <th>1</th>\n",
       "      <td>0</td>\n",
       "      <td>Ok lar... Joking wif u oni...</td>\n",
       "    </tr>\n",
       "    <tr>\n",
       "      <th>2</th>\n",
       "      <td>1</td>\n",
       "      <td>Free entry in 2 a wkly comp to win FA Cup fina...</td>\n",
       "    </tr>\n",
       "    <tr>\n",
       "      <th>3</th>\n",
       "      <td>0</td>\n",
       "      <td>U dun say so early hor... U c already then say...</td>\n",
       "    </tr>\n",
       "    <tr>\n",
       "      <th>4</th>\n",
       "      <td>0</td>\n",
       "      <td>Nah I don't think he goes to usf, he lives aro...</td>\n",
       "    </tr>\n",
       "  </tbody>\n",
       "</table>\n",
       "</div>"
      ],
      "text/plain": [
       "   category                                            message\n",
       "0         0  Go until jurong point, crazy.. Available only ...\n",
       "1         0                      Ok lar... Joking wif u oni...\n",
       "2         1  Free entry in 2 a wkly comp to win FA Cup fina...\n",
       "3         0  U dun say so early hor... U c already then say...\n",
       "4         0  Nah I don't think he goes to usf, he lives aro..."
      ]
     },
     "execution_count": 86,
     "metadata": {},
     "output_type": "execute_result"
    }
   ],
   "source": [
    "#data preprocessing\n",
    "\n",
    "mail.head()"
   ]
  },
  {
   "cell_type": "code",
   "execution_count": 87,
   "metadata": {
    "execution": {
     "iopub.execute_input": "2023-11-06T18:57:52.824576Z",
     "iopub.status.busy": "2023-11-06T18:57:52.824079Z",
     "iopub.status.idle": "2023-11-06T18:57:52.831340Z",
     "shell.execute_reply": "2023-11-06T18:57:52.829960Z",
     "shell.execute_reply.started": "2023-11-06T18:57:52.824530Z"
    }
   },
   "outputs": [],
   "source": [
    "X = mail['message']\n",
    "y = mail['category']"
   ]
  },
  {
   "cell_type": "code",
   "execution_count": 88,
   "metadata": {
    "execution": {
     "iopub.execute_input": "2023-11-06T18:57:52.834904Z",
     "iopub.status.busy": "2023-11-06T18:57:52.833421Z",
     "iopub.status.idle": "2023-11-06T18:57:52.851682Z",
     "shell.execute_reply": "2023-11-06T18:57:52.850098Z",
     "shell.execute_reply.started": "2023-11-06T18:57:52.834848Z"
    }
   },
   "outputs": [
    {
     "data": {
      "text/plain": [
       "0       Go until jurong point, crazy.. Available only ...\n",
       "1                           Ok lar... Joking wif u oni...\n",
       "2       Free entry in 2 a wkly comp to win FA Cup fina...\n",
       "3       U dun say so early hor... U c already then say...\n",
       "4       Nah I don't think he goes to usf, he lives aro...\n",
       "                              ...                        \n",
       "5567    This is the 2nd time we have tried 2 contact u...\n",
       "5568                 Will ü b going to esplanade fr home?\n",
       "5569    Pity, * was in mood for that. So...any other s...\n",
       "5570    The guy did some bitching but I acted like i'd...\n",
       "5571                           Rofl. Its true to its name\n",
       "Name: message, Length: 5157, dtype: object"
      ]
     },
     "execution_count": 88,
     "metadata": {},
     "output_type": "execute_result"
    }
   ],
   "source": [
    "X"
   ]
  },
  {
   "cell_type": "code",
   "execution_count": 89,
   "metadata": {
    "execution": {
     "iopub.execute_input": "2023-11-06T18:57:52.855173Z",
     "iopub.status.busy": "2023-11-06T18:57:52.854107Z",
     "iopub.status.idle": "2023-11-06T18:57:52.867306Z",
     "shell.execute_reply": "2023-11-06T18:57:52.865806Z",
     "shell.execute_reply.started": "2023-11-06T18:57:52.855106Z"
    }
   },
   "outputs": [
    {
     "data": {
      "text/plain": [
       "0       0\n",
       "1       0\n",
       "2       1\n",
       "3       0\n",
       "4       0\n",
       "       ..\n",
       "5567    1\n",
       "5568    0\n",
       "5569    0\n",
       "5570    0\n",
       "5571    0\n",
       "Name: category, Length: 5157, dtype: int64"
      ]
     },
     "execution_count": 89,
     "metadata": {},
     "output_type": "execute_result"
    }
   ],
   "source": [
    "y"
   ]
  },
  {
   "cell_type": "code",
   "execution_count": 90,
   "metadata": {
    "execution": {
     "iopub.execute_input": "2023-11-06T18:57:52.870330Z",
     "iopub.status.busy": "2023-11-06T18:57:52.869470Z",
     "iopub.status.idle": "2023-11-06T18:57:52.882091Z",
     "shell.execute_reply": "2023-11-06T18:57:52.880773Z",
     "shell.execute_reply.started": "2023-11-06T18:57:52.870285Z"
    }
   },
   "outputs": [],
   "source": [
    "X_train, X_test, y_train, y_test = train_test_split(X, y, test_size = 0.2, random_state = 0)"
   ]
  },
  {
   "cell_type": "code",
   "execution_count": 91,
   "metadata": {
    "execution": {
     "iopub.execute_input": "2023-11-06T18:57:52.887677Z",
     "iopub.status.busy": "2023-11-06T18:57:52.887276Z",
     "iopub.status.idle": "2023-11-06T18:57:52.899441Z",
     "shell.execute_reply": "2023-11-06T18:57:52.898269Z",
     "shell.execute_reply.started": "2023-11-06T18:57:52.887636Z"
    }
   },
   "outputs": [
    {
     "name": "stdout",
     "output_type": "stream",
     "text": [
      "(4125,)\n",
      "(1032,)\n"
     ]
    }
   ],
   "source": [
    "print(X_train.shape)\n",
    "print(X_test.shape)"
   ]
  },
  {
   "cell_type": "code",
   "execution_count": 92,
   "metadata": {
    "execution": {
     "iopub.execute_input": "2023-11-06T18:57:52.902507Z",
     "iopub.status.busy": "2023-11-06T18:57:52.901584Z",
     "iopub.status.idle": "2023-11-06T18:57:52.999228Z",
     "shell.execute_reply": "2023-11-06T18:57:52.997856Z",
     "shell.execute_reply.started": "2023-11-06T18:57:52.902461Z"
    }
   },
   "outputs": [
    {
     "name": "stdout",
     "output_type": "stream",
     "text": [
      "[nltk_data] Downloading package stopwords to /usr/share/nltk_data...\n",
      "[nltk_data]   Package stopwords is already up-to-date!\n"
     ]
    },
    {
     "data": {
      "text/plain": [
       "True"
      ]
     },
     "execution_count": 92,
     "metadata": {},
     "output_type": "execute_result"
    }
   ],
   "source": [
    "#feature extraction\n",
    "nltk.download('stopwords')\n"
   ]
  },
  {
   "cell_type": "code",
   "execution_count": 93,
   "metadata": {
    "execution": {
     "iopub.execute_input": "2023-11-06T18:57:53.001968Z",
     "iopub.status.busy": "2023-11-06T18:57:53.001212Z",
     "iopub.status.idle": "2023-11-06T18:57:53.013795Z",
     "shell.execute_reply": "2023-11-06T18:57:53.012457Z",
     "shell.execute_reply.started": "2023-11-06T18:57:53.001924Z"
    }
   },
   "outputs": [],
   "source": [
    "fe = TfidfVectorizer(min_df =1, stop_words = 'english', lowercase = True)"
   ]
  },
  {
   "cell_type": "code",
   "execution_count": 94,
   "metadata": {
    "execution": {
     "iopub.execute_input": "2023-11-06T18:57:53.018241Z",
     "iopub.status.busy": "2023-11-06T18:57:53.016971Z",
     "iopub.status.idle": "2023-11-06T18:57:53.028189Z",
     "shell.execute_reply": "2023-11-06T18:57:53.026543Z",
     "shell.execute_reply.started": "2023-11-06T18:57:53.018193Z"
    }
   },
   "outputs": [
    {
     "data": {
      "text/plain": [
       "dtype('O')"
      ]
     },
     "execution_count": 94,
     "metadata": {},
     "output_type": "execute_result"
    }
   ],
   "source": [
    "X_test.dtypes"
   ]
  },
  {
   "cell_type": "code",
   "execution_count": 95,
   "metadata": {
    "execution": {
     "iopub.execute_input": "2023-11-06T18:57:53.032032Z",
     "iopub.status.busy": "2023-11-06T18:57:53.030838Z",
     "iopub.status.idle": "2023-11-06T18:57:53.530015Z",
     "shell.execute_reply": "2023-11-06T18:57:53.528729Z",
     "shell.execute_reply.started": "2023-11-06T18:57:53.031988Z"
    }
   },
   "outputs": [],
   "source": [
    "X_train_fe = fe.fit_transform(X_train)\n",
    "X_test_fe  = fe.transform(X_test)"
   ]
  },
  {
   "cell_type": "code",
   "execution_count": 96,
   "metadata": {
    "execution": {
     "iopub.execute_input": "2023-11-06T18:57:53.532534Z",
     "iopub.status.busy": "2023-11-06T18:57:53.531978Z",
     "iopub.status.idle": "2023-11-06T18:57:53.540026Z",
     "shell.execute_reply": "2023-11-06T18:57:53.538814Z",
     "shell.execute_reply.started": "2023-11-06T18:57:53.532502Z"
    }
   },
   "outputs": [
    {
     "name": "stdout",
     "output_type": "stream",
     "text": [
      "3734                Old Orchard near univ. How about you?\n",
      "3720    Thanks for your ringtone order, reference numb...\n",
      "681        What is this 'hex' place you talk of? Explain!\n",
      "4165                  Its ok, called mom instead have fun\n",
      "3057                             Webpage s not available!\n",
      "Name: message, dtype: object\n"
     ]
    }
   ],
   "source": [
    "print(X_train.head())"
   ]
  },
  {
   "cell_type": "code",
   "execution_count": 97,
   "metadata": {
    "execution": {
     "iopub.execute_input": "2023-11-06T18:57:53.542688Z",
     "iopub.status.busy": "2023-11-06T18:57:53.541973Z",
     "iopub.status.idle": "2023-11-06T18:57:53.554332Z",
     "shell.execute_reply": "2023-11-06T18:57:53.553176Z",
     "shell.execute_reply.started": "2023-11-06T18:57:53.542645Z"
    }
   },
   "outputs": [
    {
     "name": "stdout",
     "output_type": "stream",
     "text": [
      "  (0, 6818)\t0.5739788188946062\n",
      "  (0, 4485)\t0.4906764134643631\n",
      "  (0, 4728)\t0.4817972507769212\n",
      "  (0, 4681)\t0.44458562940552054\n",
      "  (1, 6760)\t0.2835428015076369\n",
      "  (1, 6471)\t0.14542627512844372\n",
      "  (1, 5367)\t0.24745538040851425\n",
      "  (1, 1813)\t0.4392463649249198\n",
      "  (1, 214)\t0.27022400810961306\n",
      "  (1, 5742)\t0.2196231824624599\n",
      "  (1, 2030)\t0.18952469382234666\n",
      "  (1, 1020)\t0.23800554610543917\n",
      "  (1, 6624)\t0.20630438906443613\n",
      "  (1, 517)\t0.18432732222631074\n",
      "  (1, 1641)\t0.2275449186265733\n",
      "  (1, 4318)\t0.15707243591111456\n",
      "  (1, 7269)\t0.27022400810961306\n",
      "  (1, 4614)\t0.16583070390719393\n",
      "  (1, 5372)\t0.24239181016355874\n",
      "  (1, 4729)\t0.20959194915388416\n",
      "  (1, 5509)\t0.21324550953423102\n",
      "  (1, 6487)\t0.16969966300214262\n",
      "  (2, 2584)\t0.5479285984863099\n",
      "  (2, 6384)\t0.4097389232754499\n",
      "  (2, 4956)\t0.39512024803714585\n",
      "  :\t:\n",
      "  (4121, 1468)\t0.17565732524995498\n",
      "  (4121, 254)\t0.19582685756101897\n",
      "  (4121, 6289)\t0.15915727832638799\n",
      "  (4121, 5624)\t0.14535496815743226\n",
      "  (4121, 3898)\t0.1410148881186621\n",
      "  (4121, 247)\t0.14023434160506634\n",
      "  (4121, 2849)\t0.33433368750531045\n",
      "  (4121, 4389)\t0.16716684375265523\n",
      "  (4121, 2138)\t0.2907099363148645\n",
      "  (4121, 1728)\t0.17565732524995498\n",
      "  (4121, 3634)\t0.1889787193478782\n",
      "  (4121, 7296)\t0.1889787193478782\n",
      "  (4122, 3029)\t0.5691488271888182\n",
      "  (4122, 5186)\t0.5691488271888182\n",
      "  (4122, 3183)\t0.43130211350071335\n",
      "  (4122, 2223)\t0.407575406408438\n",
      "  (4123, 1099)\t0.5750474583587692\n",
      "  (4123, 4096)\t0.5480358810899566\n",
      "  (4123, 4207)\t0.40165953387583664\n",
      "  (4123, 5014)\t0.4556826884134619\n",
      "  (4124, 1606)\t0.46191680930477547\n",
      "  (4124, 3730)\t0.4402192930303622\n",
      "  (4124, 6535)\t0.3473961773632615\n",
      "  (4124, 2864)\t0.6493190953439835\n",
      "  (4124, 1821)\t0.22481201858576816\n"
     ]
    }
   ],
   "source": [
    "print(X_train_fe)"
   ]
  },
  {
   "cell_type": "code",
   "execution_count": 112,
   "metadata": {
    "execution": {
     "iopub.execute_input": "2023-11-06T19:17:55.176123Z",
     "iopub.status.busy": "2023-11-06T19:17:55.175655Z",
     "iopub.status.idle": "2023-11-06T19:17:55.189734Z",
     "shell.execute_reply": "2023-11-06T19:17:55.188796Z",
     "shell.execute_reply.started": "2023-11-06T19:17:55.176091Z"
    }
   },
   "outputs": [
    {
     "data": {
      "text/html": [
       "<style>#sk-container-id-4 {color: black;background-color: white;}#sk-container-id-4 pre{padding: 0;}#sk-container-id-4 div.sk-toggleable {background-color: white;}#sk-container-id-4 label.sk-toggleable__label {cursor: pointer;display: block;width: 100%;margin-bottom: 0;padding: 0.3em;box-sizing: border-box;text-align: center;}#sk-container-id-4 label.sk-toggleable__label-arrow:before {content: \"▸\";float: left;margin-right: 0.25em;color: #696969;}#sk-container-id-4 label.sk-toggleable__label-arrow:hover:before {color: black;}#sk-container-id-4 div.sk-estimator:hover label.sk-toggleable__label-arrow:before {color: black;}#sk-container-id-4 div.sk-toggleable__content {max-height: 0;max-width: 0;overflow: hidden;text-align: left;background-color: #f0f8ff;}#sk-container-id-4 div.sk-toggleable__content pre {margin: 0.2em;color: black;border-radius: 0.25em;background-color: #f0f8ff;}#sk-container-id-4 input.sk-toggleable__control:checked~div.sk-toggleable__content {max-height: 200px;max-width: 100%;overflow: auto;}#sk-container-id-4 input.sk-toggleable__control:checked~label.sk-toggleable__label-arrow:before {content: \"▾\";}#sk-container-id-4 div.sk-estimator input.sk-toggleable__control:checked~label.sk-toggleable__label {background-color: #d4ebff;}#sk-container-id-4 div.sk-label input.sk-toggleable__control:checked~label.sk-toggleable__label {background-color: #d4ebff;}#sk-container-id-4 input.sk-hidden--visually {border: 0;clip: rect(1px 1px 1px 1px);clip: rect(1px, 1px, 1px, 1px);height: 1px;margin: -1px;overflow: hidden;padding: 0;position: absolute;width: 1px;}#sk-container-id-4 div.sk-estimator {font-family: monospace;background-color: #f0f8ff;border: 1px dotted black;border-radius: 0.25em;box-sizing: border-box;margin-bottom: 0.5em;}#sk-container-id-4 div.sk-estimator:hover {background-color: #d4ebff;}#sk-container-id-4 div.sk-parallel-item::after {content: \"\";width: 100%;border-bottom: 1px solid gray;flex-grow: 1;}#sk-container-id-4 div.sk-label:hover label.sk-toggleable__label {background-color: #d4ebff;}#sk-container-id-4 div.sk-serial::before {content: \"\";position: absolute;border-left: 1px solid gray;box-sizing: border-box;top: 0;bottom: 0;left: 50%;z-index: 0;}#sk-container-id-4 div.sk-serial {display: flex;flex-direction: column;align-items: center;background-color: white;padding-right: 0.2em;padding-left: 0.2em;position: relative;}#sk-container-id-4 div.sk-item {position: relative;z-index: 1;}#sk-container-id-4 div.sk-parallel {display: flex;align-items: stretch;justify-content: center;background-color: white;position: relative;}#sk-container-id-4 div.sk-item::before, #sk-container-id-4 div.sk-parallel-item::before {content: \"\";position: absolute;border-left: 1px solid gray;box-sizing: border-box;top: 0;bottom: 0;left: 50%;z-index: -1;}#sk-container-id-4 div.sk-parallel-item {display: flex;flex-direction: column;z-index: 1;position: relative;background-color: white;}#sk-container-id-4 div.sk-parallel-item:first-child::after {align-self: flex-end;width: 50%;}#sk-container-id-4 div.sk-parallel-item:last-child::after {align-self: flex-start;width: 50%;}#sk-container-id-4 div.sk-parallel-item:only-child::after {width: 0;}#sk-container-id-4 div.sk-dashed-wrapped {border: 1px dashed gray;margin: 0 0.4em 0.5em 0.4em;box-sizing: border-box;padding-bottom: 0.4em;background-color: white;}#sk-container-id-4 div.sk-label label {font-family: monospace;font-weight: bold;display: inline-block;line-height: 1.2em;}#sk-container-id-4 div.sk-label-container {text-align: center;}#sk-container-id-4 div.sk-container {/* jupyter's `normalize.less` sets `[hidden] { display: none; }` but bootstrap.min.css set `[hidden] { display: none !important; }` so we also need the `!important` here to be able to override the default hidden behavior on the sphinx rendered scikit-learn.org. See: https://github.com/scikit-learn/scikit-learn/issues/21755 */display: inline-block !important;position: relative;}#sk-container-id-4 div.sk-text-repr-fallback {display: none;}</style><div id=\"sk-container-id-4\" class=\"sk-top-container\"><div class=\"sk-text-repr-fallback\"><pre>MultinomialNB()</pre><b>In a Jupyter environment, please rerun this cell to show the HTML representation or trust the notebook. <br />On GitHub, the HTML representation is unable to render, please try loading this page with nbviewer.org.</b></div><div class=\"sk-container\" hidden><div class=\"sk-item\"><div class=\"sk-estimator sk-toggleable\"><input class=\"sk-toggleable__control sk-hidden--visually\" id=\"sk-estimator-id-4\" type=\"checkbox\" checked><label for=\"sk-estimator-id-4\" class=\"sk-toggleable__label sk-toggleable__label-arrow\">MultinomialNB</label><div class=\"sk-toggleable__content\"><pre>MultinomialNB()</pre></div></div></div></div></div>"
      ],
      "text/plain": [
       "MultinomialNB()"
      ]
     },
     "execution_count": 112,
     "metadata": {},
     "output_type": "execute_result"
    }
   ],
   "source": [
    "#model_selection\n",
    "\n",
    "modelNB = MultinomialNB()\n",
    "modelNB.fit(X_train_fe, y_train)\n",
    "\n",
    "#modelLR = LogisticRegression()\n",
    "#modelLR.fit(X_train_fe, y_train)"
   ]
  },
  {
   "cell_type": "code",
   "execution_count": 113,
   "metadata": {
    "execution": {
     "iopub.execute_input": "2023-11-06T19:18:12.046329Z",
     "iopub.status.busy": "2023-11-06T19:18:12.045293Z",
     "iopub.status.idle": "2023-11-06T19:18:12.052343Z",
     "shell.execute_reply": "2023-11-06T19:18:12.051446Z",
     "shell.execute_reply.started": "2023-11-06T19:18:12.046291Z"
    }
   },
   "outputs": [],
   "source": [
    "#model_evaluation\n",
    "pre_model_train = modelNB.predict(X_train_fe)\n",
    "pre_model_test = modelNB.predict(X_test_fe)"
   ]
  },
  {
   "cell_type": "code",
   "execution_count": 100,
   "metadata": {
    "execution": {
     "iopub.execute_input": "2023-11-06T18:57:53.683543Z",
     "iopub.status.busy": "2023-11-06T18:57:53.682853Z",
     "iopub.status.idle": "2023-11-06T18:57:53.692974Z",
     "shell.execute_reply": "2023-11-06T18:57:53.691819Z",
     "shell.execute_reply.started": "2023-11-06T18:57:53.683501Z"
    }
   },
   "outputs": [],
   "source": [
    "from sklearn.metrics import mean_absolute_error"
   ]
  },
  {
   "cell_type": "code",
   "execution_count": 101,
   "metadata": {
    "execution": {
     "iopub.execute_input": "2023-11-06T18:57:53.695647Z",
     "iopub.status.busy": "2023-11-06T18:57:53.694816Z",
     "iopub.status.idle": "2023-11-06T18:57:53.752173Z",
     "shell.execute_reply": "2023-11-06T18:57:53.750901Z",
     "shell.execute_reply.started": "2023-11-06T18:57:53.695598Z"
    }
   },
   "outputs": [
    {
     "data": {
      "text/plain": [
       "array([[0., 0., 0., ..., 0., 0., 0.],\n",
       "       [0., 0., 0., ..., 0., 0., 0.],\n",
       "       [0., 0., 0., ..., 0., 0., 0.],\n",
       "       ...,\n",
       "       [0., 0., 0., ..., 0., 0., 0.],\n",
       "       [0., 0., 0., ..., 0., 0., 0.],\n",
       "       [0., 0., 0., ..., 0., 0., 0.]])"
      ]
     },
     "execution_count": 101,
     "metadata": {},
     "output_type": "execute_result"
    }
   ],
   "source": [
    "X_test_fe.toarray()\n"
   ]
  },
  {
   "cell_type": "code",
   "execution_count": 114,
   "metadata": {
    "execution": {
     "iopub.execute_input": "2023-11-06T19:18:21.366826Z",
     "iopub.status.busy": "2023-11-06T19:18:21.366052Z",
     "iopub.status.idle": "2023-11-06T19:18:21.374640Z",
     "shell.execute_reply": "2023-11-06T19:18:21.373588Z",
     "shell.execute_reply.started": "2023-11-06T19:18:21.366789Z"
    }
   },
   "outputs": [
    {
     "data": {
      "text/plain": [
       "0.9779393939393939"
      ]
     },
     "execution_count": 114,
     "metadata": {},
     "output_type": "execute_result"
    }
   ],
   "source": [
    "acc_score = accuracy_score(y_train, pre_model_train)\n",
    "acc_score"
   ]
  },
  {
   "cell_type": "code",
   "execution_count": 115,
   "metadata": {
    "execution": {
     "iopub.execute_input": "2023-11-06T19:18:27.865655Z",
     "iopub.status.busy": "2023-11-06T19:18:27.865157Z",
     "iopub.status.idle": "2023-11-06T19:18:27.874235Z",
     "shell.execute_reply": "2023-11-06T19:18:27.873355Z",
     "shell.execute_reply.started": "2023-11-06T19:18:27.865620Z"
    }
   },
   "outputs": [
    {
     "data": {
      "text/plain": [
       "0.9622093023255814"
      ]
     },
     "execution_count": 115,
     "metadata": {},
     "output_type": "execute_result"
    }
   ],
   "source": [
    "acc_score2 = accuracy_score(y_test, pre_model_test)\n",
    "acc_score2"
   ]
  },
  {
   "cell_type": "code",
   "execution_count": 116,
   "metadata": {
    "execution": {
     "iopub.execute_input": "2023-11-06T19:18:32.084985Z",
     "iopub.status.busy": "2023-11-06T19:18:32.083844Z",
     "iopub.status.idle": "2023-11-06T19:18:32.098965Z",
     "shell.execute_reply": "2023-11-06T19:18:32.097533Z",
     "shell.execute_reply.started": "2023-11-06T19:18:32.084944Z"
    }
   },
   "outputs": [
    {
     "data": {
      "text/plain": [
       "count                                      4125\n",
       "unique                                     4125\n",
       "top       Old Orchard near univ. How about you?\n",
       "freq                                          1\n",
       "Name: message, dtype: object"
      ]
     },
     "execution_count": 116,
     "metadata": {},
     "output_type": "execute_result"
    }
   ],
   "source": [
    "X_train.describe()"
   ]
  },
  {
   "cell_type": "code",
   "execution_count": 125,
   "metadata": {
    "execution": {
     "iopub.execute_input": "2023-11-06T19:46:49.100251Z",
     "iopub.status.busy": "2023-11-06T19:46:49.099797Z",
     "iopub.status.idle": "2023-11-06T19:46:49.294016Z",
     "shell.execute_reply": "2023-11-06T19:46:49.292910Z",
     "shell.execute_reply.started": "2023-11-06T19:46:49.100220Z"
    }
   },
   "outputs": [
    {
     "data": {
      "image/png": "[encoded data removed]",
      "text/plain": [
       "<Figure size 600x400 with 1 Axes>"
      ]
     },
     "metadata": {},
     "output_type": "display_data"
    }
   ],
   "source": [
    "conf_matrix=confusion_matrix(y_test,pre_model_test)\n",
    "plt.figure(figsize=(6,4))\n",
    "sns.heatmap(conf_matrix,annot=True,fmt=\"d\",cmap=\"Oranges\",cbar=False)\n",
    "plt.xlabel(\"Predicted value\")\n",
    "plt.ylabel(\"Actual value\")\n",
    "plt.title(\"Confusion Matrix\")\n",
    "plt.show()"
   ]
  },
  {
   "cell_type": "code",
   "execution_count": 123,
   "metadata": {
    "execution": {
     "iopub.execute_input": "2023-11-06T19:31:20.736810Z",
     "iopub.status.busy": "2023-11-06T19:31:20.736253Z",
     "iopub.status.idle": "2023-11-06T19:31:20.751904Z",
     "shell.execute_reply": "2023-11-06T19:31:20.750492Z",
     "shell.execute_reply.started": "2023-11-06T19:31:20.736766Z"
    }
   },
   "outputs": [
    {
     "name": "stdout",
     "output_type": "stream",
     "text": [
      "[1 0 1 0]\n",
      "This is a Spam mail.\n",
      "Yeah! it's a Ham\n",
      "This is a Spam mail.\n",
      "Yeah! it's a Ham\n"
     ]
    }
   ],
   "source": [
    "#testing with a random example\n",
    "ex = [\"Hurry up!!Free entry in 2 a wkly comp to win FA Cup fina...\",\"I'm always looking for an excuse to be in the ...\",\"URGENT! Your mobile was awarded a £1,500 Bonus...\",\"Want explicit SEX in 30 secs? Ring 02073162414...\"]\n",
    "new_ex = fe.transform(ex)\n",
    "pre_new_ex = modelNB.predict(new_ex)\n",
    "print(pre_new_ex)\n",
    "\n",
    "for i in range(len(ex)):\n",
    "    if(pre_new_ex[i] == 1):\n",
    "        print(\"This is a Spam mail.\")\n",
    "        \n",
    "    else:\n",
    "        print(\"Yeah! it's a Ham\")"
   ]
  },
  {
   "cell_type": "code",
   "execution_count": 119,
   "metadata": {
    "execution": {
     "iopub.execute_input": "2023-11-06T19:22:08.216065Z",
     "iopub.status.busy": "2023-11-06T19:22:08.215613Z",
     "iopub.status.idle": "2023-11-06T19:22:08.226608Z",
     "shell.execute_reply": "2023-11-06T19:22:08.225206Z",
     "shell.execute_reply.started": "2023-11-06T19:22:08.216037Z"
    }
   },
   "outputs": [
    {
     "data": {
      "text/plain": [
       "2807                                           Can a not?\n",
       "1551    He says hi and to get your ass back to south t...\n",
       "3261    I'm always looking for an excuse to be in the ...\n",
       "1618                        Did u download the fring app?\n",
       "2457                            Onum ela pa. Normal than.\n",
       "3692    Sir, i am waiting for your call, once free ple...\n",
       "1755    How is your schedule next week? I am out of to...\n",
       "3812          Excellent! Wish we were together right now!\n",
       "5114              Argh why the fuck is nobody in town ;_;\n",
       "4752    Your weekly Cool-Mob tones are ready to downlo...\n",
       "4306                Yo come over carlos will be here soon\n",
       "4347             You still around? I could use a half-8th\n",
       "3034                          Aight, lemme know what's up\n",
       "548                      Sorry that took so long, omw now\n",
       "2954    URGENT! Your mobile was awarded a £1,500 Bonus...\n",
       "624     sorry, no, have got few things to do. may be i...\n",
       "220     Yeah you should. I think you can use your gt a...\n",
       "2665                        He remains a bro amongst bros\n",
       "4614                        How much you got for cleaning\n",
       "2156                       What year. And how many miles.\n",
       "1311    I.ll always be there, even if its just in spir...\n",
       "553     Sure, if I get an acknowledgement from you tha...\n",
       "4475    Want explicit SEX in 30 secs? Ring 02073162414...\n",
       "3439                            Its good to hear from you\n",
       "2743    No * am working on the ringing u thing but hav...\n",
       "1948    The battery is for mr adewale my uncle. Aka Egbon\n",
       "5275                        Oh yeah clearly it's my fault\n",
       "2404    Jesus christ bitch I'm trying to give you drug...\n",
       "3853         No, its true..k,Do u knw dis no. &lt;#&gt; ?\n",
       "3369             Hey elaine, is today's meeting still on?\n",
       "Name: message, dtype: object"
      ]
     },
     "execution_count": 119,
     "metadata": {},
     "output_type": "execute_result"
    }
   ],
   "source": [
    "X_test.tail(30)"
   ]
  },
  {
   "cell_type": "code",
   "execution_count": null,
   "metadata": {},
   "outputs": [],
   "source": [
    "# Data visualization - Top 7 Most Common Words in Spam Emails\n",
    "\n",
    "stop_words = set(stopwords.words('english'))\n",
    "spam_words = \" \".join(df[df['Category'] == 0]['Message']).split()\n",
    "ham_words = \" \".join(df[df['Category'] == 1]['Message']).split()\n",
    "\n",
    "spam_word_freq = Counter([word.lower() for word in spam_words if word.lower() not in stop_words and word.isalpha()])\n",
    "\n",
    "plt.figure(figsize=(10, 6))\n",
    "plt.bar(*zip(*spam_word_freq.most_common(7)), color='y')\n",
    "plt.xlabel('Words')\n",
    "plt.ylabel('Frequency')\n",
    "plt.title('Top 7 Most Common Words in Spam Emails')\n",
    "plt.xticks(rotation=45)\n",
    "plt.show()"
   ]
  },
  {
   "cell_type": "code",
   "execution_count": null,
   "metadata": {},
   "outputs": [],
   "source": []
  }
 ],
 "metadata": {
  "kernelspec": {
   "display_name": "Python 3 (ipykernel)",
   "language": "python",
   "name": "python3"
  },
  "language_info": {
   "codemirror_mode": {
    "name": "ipython",
    "version": 3
   },
   "file_extension": ".py",
   "mimetype": "text/x-python",
   "name": "python",
   "nbconvert_exporter": "python",
   "pygments_lexer": "ipython3",
   "version": "3.11.4"
  }
 },
 "nbformat": 4,
 "nbformat_minor": 4
}
